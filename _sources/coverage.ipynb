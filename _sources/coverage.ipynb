{
 "cells": [
  {
   "cell_type": "markdown",
   "metadata": {},
   "source": [
    "# Test converage in python"
   ]
  },
  {
   "cell_type": "markdown",
   "metadata": {},
   "source": [
    "### In this notebook, we have a test example that, by the use of the `coverage` library"
   ]
  },
  {
   "cell_type": "markdown",
   "metadata": {},
   "source": [
    "Install the package coverage in your machine:"
   ]
  },
  {
   "cell_type": "markdown",
   "metadata": {},
   "source": [
    "pip install coverage"
   ]
  },
  {
   "cell_type": "markdown",
   "metadata": {},
   "source": [
    "Create a file to coverage with name area.py:"
   ]
  },
  {
   "cell_type": "code",
   "execution_count": null,
   "metadata": {},
   "outputs": [],
   "source": [
    "#area.py\n",
    "from math import pi\n",
    "\n",
    "def circle_area(r):\n",
    "    if type(r) not in [int, float]:\n",
    "        raise TypeError(\"The radius must be a non-negative real number.\")\n",
    "    if r < 0:\n",
    "        raise ValueError(\"The radius must not be negative.\")\n",
    "    return pi*(r**2)\n"
   ]
  },
  {
   "cell_type": "markdown",
   "metadata": {},
   "source": [
    "Create a test file:"
   ]
  },
  {
   "cell_type": "code",
   "execution_count": 2,
   "metadata": {},
   "outputs": [],
   "source": [
    "#test.py\n",
    "from math import pi\n",
    "import unittest\n",
    "#from area import *\n",
    "\n",
    "class TestCircleArea(unittest.TestCase): \n",
    "    def test_area(self):\n",
    "        #Test area when radius >= 0\n",
    "        self.assertAlmostEqual(circle_area(1), pi)"
   ]
  },
  {
   "cell_type": "markdown",
   "metadata": {},
   "source": [
    "## Coverage commands"
   ]
  },
  {
   "cell_type": "markdown",
   "metadata": {},
   "source": [
    "Run the follow command using the command line of your OS:\n",
    "\n",
    "`python -m unittest discover`\n",
    "\n",
    "`coverage run -m unittest discover`"
   ]
  },
  {
   "cell_type": "markdown",
   "metadata": {},
   "source": [
    "View the coverage report:\n",
    "    \n",
    "`coverage report -m`"
   ]
  },
  {
   "cell_type": "markdown",
   "metadata": {},
   "source": [
    "Generate a html file with the all coverage:\n",
    "`coverage html`\n",
    "\n",
    "Open the file in path: /htmlcov/index.html"
   ]
  },
  {
   "cell_type": "markdown",
   "metadata": {},
   "source": [
    "### Add more tests in your file:"
   ]
  },
  {
   "cell_type": "code",
   "execution_count": 3,
   "metadata": {},
   "outputs": [],
   "source": [
    "#test.py\n",
    "from math import pi\n",
    "import unittest\n",
    "#from area import *\n",
    "\n",
    "class TestCircleArea(unittest.TestCase): \n",
    "    def test_area(self):\n",
    "        #Test area when radius >= 0\n",
    "        self.assertAlmostEqual(circle_area(1), pi)\n",
    "        self.assertAlmostEqual(circle_area(0), 0)\n",
    "        self.assertAlmostEqual(circle_area(2.1), pi * 2.1**2)\n",
    "\n",
    "    def test_values(self):\n",
    "        #Make sure value errors are raised when necessary\n",
    "        self.assertRaises(ValueError, circle_area, -2)\n",
    "\n",
    "    def test_type(self):\n",
    "        #Make sure type errors are raised when necessary\n",
    "        self.assertRaises(TypeError, circle_area, 3+5j)\n",
    "        self.assertRaises(TypeError, circle_area, True)\n",
    "        #self.assertRaises(TypeError, circle_area, \"text\")"
   ]
  },
  {
   "cell_type": "markdown",
   "metadata": {},
   "source": [
    "## Run again the coverage commands"
   ]
  }
 ],
 "metadata": {
  "kernelspec": {
   "display_name": "Python 3",
   "language": "python",
   "name": "python3"
  },
  "language_info": {
   "codemirror_mode": {
    "name": "ipython",
    "version": 3
   },
   "file_extension": ".py",
   "mimetype": "text/x-python",
   "name": "python",
   "nbconvert_exporter": "python",
   "pygments_lexer": "ipython3",
   "version": "3.7.6"
  }
 },
 "nbformat": 4,
 "nbformat_minor": 4
}
