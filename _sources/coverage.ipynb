{
 "cells": [
  {
   "cell_type": "markdown",
   "metadata": {},
   "source": [
    "# Hands On: Using coverage.py"
   ]
  },
  {
   "cell_type": "markdown",
   "metadata": {},
   "source": [
    "### In this notebook, we have an example of using test coverage."
   ]
  },
  {
   "cell_type": "markdown",
   "metadata": {},
   "source": [
    "The term **`coverage`** in programming is typically used to describe the effectiveness of your tests and how much of your code is actually covered by tests."
   ]
  },
  {
   "cell_type": "code",
   "execution_count": null,
   "metadata": {},
   "outputs": [],
   "source": [
    "from IPython.display import YouTubeVideo"
   ]
  },
  {
   "cell_type": "code",
   "execution_count": null,
   "metadata": {},
   "outputs": [],
   "source": [
    "YouTubeVideo('dwG656XIa40')"
   ]
  },
  {
   "cell_type": "markdown",
   "metadata": {},
   "source": [
    "First, install the package coverage in your machine, using the command line:"
   ]
  },
  {
   "cell_type": "markdown",
   "metadata": {},
   "source": [
    "**`pip install coverage`**"
   ]
  },
  {
   "cell_type": "markdown",
   "metadata": {},
   "source": [
    "Create a file to coverage with name area.py:"
   ]
  },
  {
   "cell_type": "code",
   "execution_count": null,
   "metadata": {},
   "outputs": [],
   "source": [
    "#area.py\n",
    "from math import pi\n",
    "\n",
    "def circle_area(r):\n",
    "    if type(r) not in [int, float]:\n",
    "        raise TypeError(\"The radius must be a non-negative real number.\")\n",
    "    if r < 0:\n",
    "        raise ValueError(\"The radius must not be negative.\")\n",
    "    return pi*(r**2)\n"
   ]
  },
  {
   "cell_type": "markdown",
   "metadata": {},
   "source": [
    "Create a new tests file and uncomment the line `from area import *`:"
   ]
  },
  {
   "cell_type": "code",
   "execution_count": null,
   "metadata": {},
   "outputs": [],
   "source": [
    "#tests.py\n",
    "from math import pi\n",
    "import unittest\n",
    "#from area import *\n",
    "\n",
    "class TestCircleArea(unittest.TestCase): \n",
    "    def test_area(self):\n",
    "        #Test area when radius >= 0\n",
    "        self.assertAlmostEqual(circle_area(1), pi)"
   ]
  },
  {
   "cell_type": "markdown",
   "metadata": {},
   "source": [
    "## Coverage commands"
   ]
  },
  {
   "cell_type": "markdown",
   "metadata": {},
   "source": [
    "Run the follow command using the command line of your OS:\n",
    "\n",
    "**`python -m unittest discover`**\n",
    "\n",
    "**`coverage run -m unittest discover`**"
   ]
  },
  {
   "cell_type": "markdown",
   "metadata": {},
   "source": [
    "To see test coverage, run the coverage report:\n",
    "    \n",
    "**`coverage report -m`**"
   ]
  },
  {
   "cell_type": "markdown",
   "metadata": {},
   "source": [
    "It is possible to create files that illustrate which parts were covered, illustrated through html pages. Run the following command:\n",
    "\n",
    "`coverage html`\n",
    "\n",
    "Open the generated file in **path**: `/htmlcov/index.html`\n",
    "\n",
    "<div id=\"index\">\n",
    "    <table class=\"index\">\n",
    "        <thead>\n",
    "            <tr class=\"tablehead\" title=\"Click to sort\">\n",
    "                <th class=\"name left headerSortDown shortkey_n\">Module</th>\n",
    "                <th class=\"shortkey_s\">statements</th>\n",
    "                <th class=\"shortkey_m\">missing</th>\n",
    "                <th class=\"shortkey_x\">excluded</th>\n",
    "                <th class=\"right shortkey_c\">coverage</th>\n",
    "            </tr>\n",
    "        </thead>\n",
    "        <tfoot>\n",
    "            <tr class=\"total\">\n",
    "                <td class=\"name left\">Total</td>\n",
    "                <td>13</td>\n",
    "                <td>2</td>\n",
    "                <td>0</td>\n",
    "                <td class=\"right\" data-ratio=\"13 15\">85%</td>\n",
    "            </tr>\n",
    "        </tfoot>\n",
    "        <tbody>\n",
    "            <tr class=\"file\">\n",
    "                <td class=\"name left\">area.py</a></td>\n",
    "                <td>7</td>\n",
    "                <td>2</td>\n",
    "                <td>0</td>\n",
    "                <td class=\"right\" data-ratio=\"5 7\">71%</td>\n",
    "            </tr>\n",
    "            <tr class=\"file\">\n",
    "                <td class=\"name left\">tests.py</a></td>\n",
    "                <td>6</td>\n",
    "                <td>0</td>\n",
    "                <td>0</td>\n",
    "                <td class=\"right\" data-ratio=\"8 8\">100%</td>\n",
    "            </tr>\n",
    "        </tbody>\n",
    "    </table>\n",
    "</div>\n",
    "\n",
    "\n",
    "\n",
    "Clicking on the `area.py` file, you will see which lines have been covered according to the following nomenclatures:\n",
    "\n",
    "**`[5 run]` - covered lines**\n",
    "\n",
    "**`[2 missing]` - lines not covered**\n",
    "\n",
    "`[0 excluded]` - excluded lines"
   ]
  },
  {
   "cell_type": "markdown",
   "metadata": {},
   "source": [
    "**Now, let's run more tests to check coverage.**"
   ]
  },
  {
   "cell_type": "markdown",
   "metadata": {},
   "source": [
    "### Add more tests in your tests file:"
   ]
  },
  {
   "cell_type": "markdown",
   "metadata": {},
   "source": [
    "Remember of uncomment the line `from area import *`"
   ]
  },
  {
   "cell_type": "code",
   "execution_count": null,
   "metadata": {},
   "outputs": [],
   "source": [
    "#tests.py\n",
    "from math import pi\n",
    "import unittest\n",
    "#from area import *\n",
    "\n",
    "class TestCircleArea(unittest.TestCase): \n",
    "    def test_area(self):\n",
    "        #Test area when radius >= 0\n",
    "        self.assertAlmostEqual(circle_area(1), pi)\n",
    "        self.assertAlmostEqual(circle_area(0), 0)\n",
    "        self.assertAlmostEqual(circle_area(2.1), pi * 2.1**2)\n",
    "\n",
    "    def test_values(self):\n",
    "        #Make sure value errors are raised when necessary\n",
    "        self.assertRaises(ValueError, circle_area, -2)\n",
    "\n",
    "    def test_type(self):\n",
    "        #Make sure type errors are raised when necessary\n",
    "        self.assertRaises(TypeError, circle_area, 3+5j)\n",
    "        self.assertRaises(TypeError, circle_area, True)"
   ]
  },
  {
   "cell_type": "markdown",
   "metadata": {},
   "source": [
    "### Run again the coverage commands and view the results."
   ]
  },
  {
   "cell_type": "markdown",
   "metadata": {},
   "source": [
    "## Now, let's solve some questions about code coverage."
   ]
  },
  {
   "cell_type": "markdown",
   "metadata": {},
   "source": [
    "<style>.embed-container2{\n",
    "        position: relative;\n",
    "        padding-bottom: 97.23%;\n",
    "        height=0;\n",
    "        overflow: hidden;\n",
    "        max-width: 100%;\n",
    "    }.embed-container2 iframe,\n",
    "    .embed-container2 object,\n",
    "    .embed-container2\n",
    "    embed { position: absolute;\n",
    "        top: 0;\n",
    "        left: 0;\n",
    "        width: 100%;\n",
    "        height: 100%; }\n",
    "</style>\n",
    "\n",
    "<div class=\"embed-container2\">\n",
    "    <iframe\n",
    "                         src=\"https://docs.google.com/forms/d/e/1FAIpQLSfHPtBpdYVb_dr6o5O203Rl85YNK4mDOZYnnxSnX17QtQ9pRQ/viewform\"\n",
    "            frameborder=\"0\" marginheight=\"0\" marginwidth=\"0\">\n",
    "    </iframe>\n",
    "</div>\n"
   ]
  }
 ],
 "metadata": {
  "kernelspec": {
   "display_name": "Python 3",
   "language": "python",
   "name": "python3"
  },
  "language_info": {
   "codemirror_mode": {
    "name": "ipython",
    "version": 3
   },
   "file_extension": ".py",
   "mimetype": "text/x-python",
   "name": "python",
   "nbconvert_exporter": "python",
   "pygments_lexer": "ipython3",
   "version": "3.7.6"
  }
 },
 "nbformat": 4,
 "nbformat_minor": 4
}
